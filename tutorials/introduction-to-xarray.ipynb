{
 "cells": [
  {
   "cell_type": "markdown",
   "metadata": {},
   "source": [
    "## Introduction to Xarray\n",
    "\n",
    "This notebook will walk through an introduction to the structure of an xarray dataset. The examples below use [Impact Observatory 9-Class](https://docs.cecil.earth/Land-Cover-9-Class-111ef16bbbe481c0bb41e6e79ec441c8) dataset. If you would like to run this notebook for yourself, just swap out the data request ID for one of your own. Note that you may need to change some variable names and timestamps to align with the dataset you're working with. "
   ]
  },
  {
   "cell_type": "code",
   "execution_count": 1,
   "metadata": {},
   "outputs": [],
   "source": [
    "import cecil\n",
    "import xarray\n",
    "import matplotlib.pyplot as plt\n",
    "\n",
    "client = cecil.Client()"
   ]
  },
  {
   "cell_type": "markdown",
   "metadata": {},
   "source": [
    "### Load dataset with xarray\n",
    "\n",
    "Each raster dataset available through Cecil is delivered in the form of an Xarray Dataset. \n",
    "\n",
    "A ['Dataset'](https://docs.xarray.dev/en/stable/user-guide/data-structures.html#dataset) is one of the data structures within the Xarray library. A single Dataset contains one or more [DataArrays](https://docs.xarray.dev/en/stable/user-guide/data-structures.html#dataarray), which correspond to different data variables. \n",
    "\n",
    "After creating a data request with Cecil, the data can be accessed by passing the data request id into the `load_xarray()` function."
   ]
  },
  {
   "cell_type": "code",
   "execution_count": 2,
   "metadata": {},
   "outputs": [
    {
     "data": {
      "text/html": [
       "<div><svg style=\"position: absolute; width: 0; height: 0; overflow: hidden\">\n",
       "<defs>\n",
       "<symbol id=\"icon-database\" viewBox=\"0 0 32 32\">\n",
       "<path d=\"M16 0c-8.837 0-16 2.239-16 5v4c0 2.761 7.163 5 16 5s16-2.239 16-5v-4c0-2.761-7.163-5-16-5z\"></path>\n",
       "<path d=\"M16 17c-8.837 0-16-2.239-16-5v6c0 2.761 7.163 5 16 5s16-2.239 16-5v-6c0 2.761-7.163 5-16 5z\"></path>\n",
       "<path d=\"M16 26c-8.837 0-16-2.239-16-5v6c0 2.761 7.163 5 16 5s16-2.239 16-5v-6c0 2.761-7.163 5-16 5z\"></path>\n",
       "</symbol>\n",
       "<symbol id=\"icon-file-text2\" viewBox=\"0 0 32 32\">\n",
       "<path d=\"M28.681 7.159c-0.694-0.947-1.662-2.053-2.724-3.116s-2.169-2.030-3.116-2.724c-1.612-1.182-2.393-1.319-2.841-1.319h-15.5c-1.378 0-2.5 1.121-2.5 2.5v27c0 1.378 1.122 2.5 2.5 2.5h23c1.378 0 2.5-1.122 2.5-2.5v-19.5c0-0.448-0.137-1.23-1.319-2.841zM24.543 5.457c0.959 0.959 1.712 1.825 2.268 2.543h-4.811v-4.811c0.718 0.556 1.584 1.309 2.543 2.268zM28 29.5c0 0.271-0.229 0.5-0.5 0.5h-23c-0.271 0-0.5-0.229-0.5-0.5v-27c0-0.271 0.229-0.5 0.5-0.5 0 0 15.499-0 15.5 0v7c0 0.552 0.448 1 1 1h7v19.5z\"></path>\n",
       "<path d=\"M23 26h-14c-0.552 0-1-0.448-1-1s0.448-1 1-1h14c0.552 0 1 0.448 1 1s-0.448 1-1 1z\"></path>\n",
       "<path d=\"M23 22h-14c-0.552 0-1-0.448-1-1s0.448-1 1-1h14c0.552 0 1 0.448 1 1s-0.448 1-1 1z\"></path>\n",
       "<path d=\"M23 18h-14c-0.552 0-1-0.448-1-1s0.448-1 1-1h14c0.552 0 1 0.448 1 1s-0.448 1-1 1z\"></path>\n",
       "</symbol>\n",
       "</defs>\n",
       "</svg>\n",
       "<style>/* CSS stylesheet for displaying xarray objects in notebooks */\n",
       "\n",
       ":root {\n",
       "  --xr-font-color0: var(\n",
       "    --jp-content-font-color0,\n",
       "    var(--pst-color-text-base rgba(0, 0, 0, 1))\n",
       "  );\n",
       "  --xr-font-color2: var(\n",
       "    --jp-content-font-color2,\n",
       "    var(--pst-color-text-base, rgba(0, 0, 0, 0.54))\n",
       "  );\n",
       "  --xr-font-color3: var(\n",
       "    --jp-content-font-color3,\n",
       "    var(--pst-color-text-base, rgba(0, 0, 0, 0.38))\n",
       "  );\n",
       "  --xr-border-color: var(\n",
       "    --jp-border-color2,\n",
       "    hsl(from var(--pst-color-on-background, white) h s calc(l - 10))\n",
       "  );\n",
       "  --xr-disabled-color: var(\n",
       "    --jp-layout-color3,\n",
       "    hsl(from var(--pst-color-on-background, white) h s calc(l - 40))\n",
       "  );\n",
       "  --xr-background-color: var(\n",
       "    --jp-layout-color0,\n",
       "    var(--pst-color-on-background, white)\n",
       "  );\n",
       "  --xr-background-color-row-even: var(\n",
       "    --jp-layout-color1,\n",
       "    hsl(from var(--pst-color-on-background, white) h s calc(l - 5))\n",
       "  );\n",
       "  --xr-background-color-row-odd: var(\n",
       "    --jp-layout-color2,\n",
       "    hsl(from var(--pst-color-on-background, white) h s calc(l - 15))\n",
       "  );\n",
       "}\n",
       "\n",
       "html[theme=\"dark\"],\n",
       "html[data-theme=\"dark\"],\n",
       "body[data-theme=\"dark\"],\n",
       "body.vscode-dark {\n",
       "  --xr-font-color0: var(\n",
       "    --jp-content-font-color0,\n",
       "    var(--pst-color-text-base, rgba(255, 255, 255, 1))\n",
       "  );\n",
       "  --xr-font-color2: var(\n",
       "    --jp-content-font-color2,\n",
       "    var(--pst-color-text-base, rgba(255, 255, 255, 0.54))\n",
       "  );\n",
       "  --xr-font-color3: var(\n",
       "    --jp-content-font-color3,\n",
       "    var(--pst-color-text-base, rgba(255, 255, 255, 0.38))\n",
       "  );\n",
       "  --xr-border-color: var(\n",
       "    --jp-border-color2,\n",
       "    hsl(from var(--pst-color-on-background, #111111) h s calc(l + 10))\n",
       "  );\n",
       "  --xr-disabled-color: var(\n",
       "    --jp-layout-color3,\n",
       "    hsl(from var(--pst-color-on-background, #111111) h s calc(l + 40))\n",
       "  );\n",
       "  --xr-background-color: var(\n",
       "    --jp-layout-color0,\n",
       "    var(--pst-color-on-background, #111111)\n",
       "  );\n",
       "  --xr-background-color-row-even: var(\n",
       "    --jp-layout-color1,\n",
       "    hsl(from var(--pst-color-on-background, #111111) h s calc(l + 5))\n",
       "  );\n",
       "  --xr-background-color-row-odd: var(\n",
       "    --jp-layout-color2,\n",
       "    hsl(from var(--pst-color-on-background, #111111) h s calc(l + 15))\n",
       "  );\n",
       "}\n",
       "\n",
       ".xr-wrap {\n",
       "  display: block !important;\n",
       "  min-width: 300px;\n",
       "  max-width: 700px;\n",
       "  line-height: 1.6;\n",
       "}\n",
       "\n",
       ".xr-text-repr-fallback {\n",
       "  /* fallback to plain text repr when CSS is not injected (untrusted notebook) */\n",
       "  display: none;\n",
       "}\n",
       "\n",
       ".xr-header {\n",
       "  padding-top: 6px;\n",
       "  padding-bottom: 6px;\n",
       "  margin-bottom: 4px;\n",
       "  border-bottom: solid 1px var(--xr-border-color);\n",
       "}\n",
       "\n",
       ".xr-header > div,\n",
       ".xr-header > ul {\n",
       "  display: inline;\n",
       "  margin-top: 0;\n",
       "  margin-bottom: 0;\n",
       "}\n",
       "\n",
       ".xr-obj-type,\n",
       ".xr-obj-name,\n",
       ".xr-group-name {\n",
       "  margin-left: 2px;\n",
       "  margin-right: 10px;\n",
       "}\n",
       "\n",
       ".xr-group-name::before {\n",
       "  content: \"📁\";\n",
       "  padding-right: 0.3em;\n",
       "}\n",
       "\n",
       ".xr-group-name,\n",
       ".xr-obj-type {\n",
       "  color: var(--xr-font-color2);\n",
       "}\n",
       "\n",
       ".xr-sections {\n",
       "  padding-left: 0 !important;\n",
       "  display: grid;\n",
       "  grid-template-columns: 150px auto auto 1fr 0 20px 0 20px;\n",
       "  margin-block-start: 0;\n",
       "  margin-block-end: 0;\n",
       "}\n",
       "\n",
       ".xr-section-item {\n",
       "  display: contents;\n",
       "}\n",
       "\n",
       ".xr-section-item input {\n",
       "  display: inline-block;\n",
       "  opacity: 0;\n",
       "  height: 0;\n",
       "  margin: 0;\n",
       "}\n",
       "\n",
       ".xr-section-item input + label {\n",
       "  color: var(--xr-disabled-color);\n",
       "  border: 2px solid transparent !important;\n",
       "}\n",
       "\n",
       ".xr-section-item input:enabled + label {\n",
       "  cursor: pointer;\n",
       "  color: var(--xr-font-color2);\n",
       "}\n",
       "\n",
       ".xr-section-item input:focus + label {\n",
       "  border: 2px solid var(--xr-font-color0) !important;\n",
       "}\n",
       "\n",
       ".xr-section-item input:enabled + label:hover {\n",
       "  color: var(--xr-font-color0);\n",
       "}\n",
       "\n",
       ".xr-section-summary {\n",
       "  grid-column: 1;\n",
       "  color: var(--xr-font-color2);\n",
       "  font-weight: 500;\n",
       "}\n",
       "\n",
       ".xr-section-summary > span {\n",
       "  display: inline-block;\n",
       "  padding-left: 0.5em;\n",
       "}\n",
       "\n",
       ".xr-section-summary-in:disabled + label {\n",
       "  color: var(--xr-font-color2);\n",
       "}\n",
       "\n",
       ".xr-section-summary-in + label:before {\n",
       "  display: inline-block;\n",
       "  content: \"►\";\n",
       "  font-size: 11px;\n",
       "  width: 15px;\n",
       "  text-align: center;\n",
       "}\n",
       "\n",
       ".xr-section-summary-in:disabled + label:before {\n",
       "  color: var(--xr-disabled-color);\n",
       "}\n",
       "\n",
       ".xr-section-summary-in:checked + label:before {\n",
       "  content: \"▼\";\n",
       "}\n",
       "\n",
       ".xr-section-summary-in:checked + label > span {\n",
       "  display: none;\n",
       "}\n",
       "\n",
       ".xr-section-summary,\n",
       ".xr-section-inline-details {\n",
       "  padding-top: 4px;\n",
       "}\n",
       "\n",
       ".xr-section-inline-details {\n",
       "  grid-column: 2 / -1;\n",
       "}\n",
       "\n",
       ".xr-section-details {\n",
       "  display: none;\n",
       "  grid-column: 1 / -1;\n",
       "  margin-top: 4px;\n",
       "  margin-bottom: 5px;\n",
       "}\n",
       "\n",
       ".xr-section-summary-in:checked ~ .xr-section-details {\n",
       "  display: contents;\n",
       "}\n",
       "\n",
       ".xr-group-box {\n",
       "  display: inline-grid;\n",
       "  grid-template-columns: 0px 20px auto;\n",
       "  width: 100%;\n",
       "}\n",
       "\n",
       ".xr-group-box-vline {\n",
       "  grid-column-start: 1;\n",
       "  border-right: 0.2em solid;\n",
       "  border-color: var(--xr-border-color);\n",
       "  width: 0px;\n",
       "}\n",
       "\n",
       ".xr-group-box-hline {\n",
       "  grid-column-start: 2;\n",
       "  grid-row-start: 1;\n",
       "  height: 1em;\n",
       "  width: 20px;\n",
       "  border-bottom: 0.2em solid;\n",
       "  border-color: var(--xr-border-color);\n",
       "}\n",
       "\n",
       ".xr-group-box-contents {\n",
       "  grid-column-start: 3;\n",
       "}\n",
       "\n",
       ".xr-array-wrap {\n",
       "  grid-column: 1 / -1;\n",
       "  display: grid;\n",
       "  grid-template-columns: 20px auto;\n",
       "}\n",
       "\n",
       ".xr-array-wrap > label {\n",
       "  grid-column: 1;\n",
       "  vertical-align: top;\n",
       "}\n",
       "\n",
       ".xr-preview {\n",
       "  color: var(--xr-font-color3);\n",
       "}\n",
       "\n",
       ".xr-array-preview,\n",
       ".xr-array-data {\n",
       "  padding: 0 5px !important;\n",
       "  grid-column: 2;\n",
       "}\n",
       "\n",
       ".xr-array-data,\n",
       ".xr-array-in:checked ~ .xr-array-preview {\n",
       "  display: none;\n",
       "}\n",
       "\n",
       ".xr-array-in:checked ~ .xr-array-data,\n",
       ".xr-array-preview {\n",
       "  display: inline-block;\n",
       "}\n",
       "\n",
       ".xr-dim-list {\n",
       "  display: inline-block !important;\n",
       "  list-style: none;\n",
       "  padding: 0 !important;\n",
       "  margin: 0;\n",
       "}\n",
       "\n",
       ".xr-dim-list li {\n",
       "  display: inline-block;\n",
       "  padding: 0;\n",
       "  margin: 0;\n",
       "}\n",
       "\n",
       ".xr-dim-list:before {\n",
       "  content: \"(\";\n",
       "}\n",
       "\n",
       ".xr-dim-list:after {\n",
       "  content: \")\";\n",
       "}\n",
       "\n",
       ".xr-dim-list li:not(:last-child):after {\n",
       "  content: \",\";\n",
       "  padding-right: 5px;\n",
       "}\n",
       "\n",
       ".xr-has-index {\n",
       "  font-weight: bold;\n",
       "}\n",
       "\n",
       ".xr-var-list,\n",
       ".xr-var-item {\n",
       "  display: contents;\n",
       "}\n",
       "\n",
       ".xr-var-item > div,\n",
       ".xr-var-item label,\n",
       ".xr-var-item > .xr-var-name span {\n",
       "  background-color: var(--xr-background-color-row-even);\n",
       "  border-color: var(--xr-background-color-row-odd);\n",
       "  margin-bottom: 0;\n",
       "  padding-top: 2px;\n",
       "}\n",
       "\n",
       ".xr-var-item > .xr-var-name:hover span {\n",
       "  padding-right: 5px;\n",
       "}\n",
       "\n",
       ".xr-var-list > li:nth-child(odd) > div,\n",
       ".xr-var-list > li:nth-child(odd) > label,\n",
       ".xr-var-list > li:nth-child(odd) > .xr-var-name span {\n",
       "  background-color: var(--xr-background-color-row-odd);\n",
       "  border-color: var(--xr-background-color-row-even);\n",
       "}\n",
       "\n",
       ".xr-var-name {\n",
       "  grid-column: 1;\n",
       "}\n",
       "\n",
       ".xr-var-dims {\n",
       "  grid-column: 2;\n",
       "}\n",
       "\n",
       ".xr-var-dtype {\n",
       "  grid-column: 3;\n",
       "  text-align: right;\n",
       "  color: var(--xr-font-color2);\n",
       "}\n",
       "\n",
       ".xr-var-preview {\n",
       "  grid-column: 4;\n",
       "}\n",
       "\n",
       ".xr-index-preview {\n",
       "  grid-column: 2 / 5;\n",
       "  color: var(--xr-font-color2);\n",
       "}\n",
       "\n",
       ".xr-var-name,\n",
       ".xr-var-dims,\n",
       ".xr-var-dtype,\n",
       ".xr-preview,\n",
       ".xr-attrs dt {\n",
       "  white-space: nowrap;\n",
       "  overflow: hidden;\n",
       "  text-overflow: ellipsis;\n",
       "  padding-right: 10px;\n",
       "}\n",
       "\n",
       ".xr-var-name:hover,\n",
       ".xr-var-dims:hover,\n",
       ".xr-var-dtype:hover,\n",
       ".xr-attrs dt:hover {\n",
       "  overflow: visible;\n",
       "  width: auto;\n",
       "  z-index: 1;\n",
       "}\n",
       "\n",
       ".xr-var-attrs,\n",
       ".xr-var-data,\n",
       ".xr-index-data {\n",
       "  display: none;\n",
       "  border-top: 2px dotted var(--xr-background-color);\n",
       "  padding-bottom: 20px !important;\n",
       "  padding-top: 10px !important;\n",
       "}\n",
       "\n",
       ".xr-var-attrs-in + label,\n",
       ".xr-var-data-in + label,\n",
       ".xr-index-data-in + label {\n",
       "  padding: 0 1px;\n",
       "}\n",
       "\n",
       ".xr-var-attrs-in:checked ~ .xr-var-attrs,\n",
       ".xr-var-data-in:checked ~ .xr-var-data,\n",
       ".xr-index-data-in:checked ~ .xr-index-data {\n",
       "  display: block;\n",
       "}\n",
       "\n",
       ".xr-var-data > table {\n",
       "  float: right;\n",
       "}\n",
       "\n",
       ".xr-var-data > pre,\n",
       ".xr-index-data > pre,\n",
       ".xr-var-data > table > tbody > tr {\n",
       "  background-color: transparent !important;\n",
       "}\n",
       "\n",
       ".xr-var-name span,\n",
       ".xr-var-data,\n",
       ".xr-index-name div,\n",
       ".xr-index-data,\n",
       ".xr-attrs {\n",
       "  padding-left: 25px !important;\n",
       "}\n",
       "\n",
       ".xr-attrs,\n",
       ".xr-var-attrs,\n",
       ".xr-var-data,\n",
       ".xr-index-data {\n",
       "  grid-column: 1 / -1;\n",
       "}\n",
       "\n",
       "dl.xr-attrs {\n",
       "  padding: 0;\n",
       "  margin: 0;\n",
       "  display: grid;\n",
       "  grid-template-columns: 125px auto;\n",
       "}\n",
       "\n",
       ".xr-attrs dt,\n",
       ".xr-attrs dd {\n",
       "  padding: 0;\n",
       "  margin: 0;\n",
       "  float: left;\n",
       "  padding-right: 10px;\n",
       "  width: auto;\n",
       "}\n",
       "\n",
       ".xr-attrs dt {\n",
       "  font-weight: normal;\n",
       "  grid-column: 1;\n",
       "}\n",
       "\n",
       ".xr-attrs dt:hover span {\n",
       "  display: inline-block;\n",
       "  background: var(--xr-background-color);\n",
       "  padding-right: 10px;\n",
       "}\n",
       "\n",
       ".xr-attrs dd {\n",
       "  grid-column: 2;\n",
       "  white-space: pre-wrap;\n",
       "  word-break: break-all;\n",
       "}\n",
       "\n",
       ".xr-icon-database,\n",
       ".xr-icon-file-text2,\n",
       ".xr-no-icon {\n",
       "  display: inline-block;\n",
       "  vertical-align: middle;\n",
       "  width: 1em;\n",
       "  height: 1.5em !important;\n",
       "  stroke-width: 0;\n",
       "  stroke: currentColor;\n",
       "  fill: currentColor;\n",
       "}\n",
       "\n",
       ".xr-var-attrs-in:checked + label > .xr-icon-file-text2,\n",
       ".xr-var-data-in:checked + label > .xr-icon-database,\n",
       ".xr-index-data-in:checked + label > .xr-icon-database {\n",
       "  color: var(--xr-font-color0);\n",
       "  filter: drop-shadow(1px 1px 5px var(--xr-font-color2));\n",
       "  stroke-width: 0.8px;\n",
       "}\n",
       "</style><pre class='xr-text-repr-fallback'>&lt;xarray.Dataset&gt; Size: 188MB\n",
       "Dimensions:           (x: 5394, y: 4351, time: 8)\n",
       "Coordinates:\n",
       "  * x                 (x) float64 43kB -1.779e+07 -1.779e+07 ... -1.773e+07\n",
       "  * y                 (y) float64 35kB 2.541e+06 2.541e+06 ... 2.494e+06\n",
       "    spatial_ref       int64 8B 0\n",
       "  * time              (time) datetime64[ns] 64B 2017-01-01 ... 2024-01-01\n",
       "Data variables:\n",
       "    land_cover_class  (time, y, x) uint8 188MB dask.array&lt;chunksize=(1, 2000, 2000), meta=np.ndarray&gt;\n",
       "Attributes:\n",
       "    provider_name:    Impact Observatory\n",
       "    dataset_id:       a4bb9aea-b6df-4d19-9083-38357f8fa76c\n",
       "    dataset_name:     Land Cover 9-Class\n",
       "    dataset_crs:      EPSG:3857\n",
       "    aoi_id:           d9532dde-cf4d-49f8-9b93-94c6d4a60618\n",
       "    data_request_id:  1dd55fdb-fbab-4943-a984-4d327baf4356</pre><div class='xr-wrap' style='display:none'><div class='xr-header'><div class='xr-obj-type'>xarray.Dataset</div></div><ul class='xr-sections'><li class='xr-section-item'><input id='section-db95672d-ca88-4933-8700-5db4e7795bd1' class='xr-section-summary-in' type='checkbox' disabled ><label for='section-db95672d-ca88-4933-8700-5db4e7795bd1' class='xr-section-summary'  title='Expand/collapse section'>Dimensions:</label><div class='xr-section-inline-details'><ul class='xr-dim-list'><li><span class='xr-has-index'>x</span>: 5394</li><li><span class='xr-has-index'>y</span>: 4351</li><li><span class='xr-has-index'>time</span>: 8</li></ul></div><div class='xr-section-details'></div></li><li class='xr-section-item'><input id='section-fb6da07b-0281-47dd-b6bf-e9b665eee6a6' class='xr-section-summary-in' type='checkbox'  checked><label for='section-fb6da07b-0281-47dd-b6bf-e9b665eee6a6' class='xr-section-summary' >Coordinates: <span>(4)</span></label><div class='xr-section-inline-details'></div><div class='xr-section-details'><ul class='xr-var-list'><li class='xr-var-item'><div class='xr-var-name'><span class='xr-has-index'>x</span></div><div class='xr-var-dims'>(x)</div><div class='xr-var-dtype'>float64</div><div class='xr-var-preview xr-preview'>-1.779e+07 ... -1.773e+07</div><input id='attrs-97b7b00d-913a-401f-8c3c-3f85dd3d7c76' class='xr-var-attrs-in' type='checkbox' disabled><label for='attrs-97b7b00d-913a-401f-8c3c-3f85dd3d7c76' title='Show/Hide attributes'><svg class='icon xr-icon-file-text2'><use xlink:href='#icon-file-text2'></use></svg></label><input id='data-94d531f8-7fb2-4d90-a8d5-828498223407' class='xr-var-data-in' type='checkbox'><label for='data-94d531f8-7fb2-4d90-a8d5-828498223407' title='Show/Hide data repr'><svg class='icon xr-icon-database'><use xlink:href='#icon-database'></use></svg></label><div class='xr-var-attrs'><dl class='xr-attrs'></dl></div><div class='xr-var-data'><pre>array([-17789662.223358, -17789651.28268 , -17789640.342003, ...,\n",
       "       -17730681.03009 , -17730670.089413, -17730659.148735], shape=(5394,))</pre></div></li><li class='xr-var-item'><div class='xr-var-name'><span class='xr-has-index'>y</span></div><div class='xr-var-dims'>(y)</div><div class='xr-var-dtype'>float64</div><div class='xr-var-preview xr-preview'>2.541e+06 2.541e+06 ... 2.494e+06</div><input id='attrs-922b1d23-fa0c-4275-aee6-8d051f85acd9' class='xr-var-attrs-in' type='checkbox' disabled><label for='attrs-922b1d23-fa0c-4275-aee6-8d051f85acd9' title='Show/Hide attributes'><svg class='icon xr-icon-file-text2'><use xlink:href='#icon-file-text2'></use></svg></label><input id='data-ad295009-8b57-4c3d-bce4-255b26e9f499' class='xr-var-data-in' type='checkbox'><label for='data-ad295009-8b57-4c3d-bce4-255b26e9f499' title='Show/Hide data repr'><svg class='icon xr-icon-database'><use xlink:href='#icon-database'></use></svg></label><div class='xr-var-attrs'><dl class='xr-attrs'></dl></div><div class='xr-var-data'><pre>array([2540764.291789, 2540753.591942, 2540742.892095, ..., 2494241.356615,\n",
       "       2494230.656768, 2494219.95692 ], shape=(4351,))</pre></div></li><li class='xr-var-item'><div class='xr-var-name'><span>spatial_ref</span></div><div class='xr-var-dims'>()</div><div class='xr-var-dtype'>int64</div><div class='xr-var-preview xr-preview'>0</div><input id='attrs-98cb88c9-600c-40ac-8c30-c6afee2fa43b' class='xr-var-attrs-in' type='checkbox' ><label for='attrs-98cb88c9-600c-40ac-8c30-c6afee2fa43b' title='Show/Hide attributes'><svg class='icon xr-icon-file-text2'><use xlink:href='#icon-file-text2'></use></svg></label><input id='data-06569cbf-f8b6-41ef-a371-443dee4cd738' class='xr-var-data-in' type='checkbox'><label for='data-06569cbf-f8b6-41ef-a371-443dee4cd738' title='Show/Hide data repr'><svg class='icon xr-icon-database'><use xlink:href='#icon-database'></use></svg></label><div class='xr-var-attrs'><dl class='xr-attrs'><dt><span>crs_wkt :</span></dt><dd>PROJCS[&quot;WGS 84 / Pseudo-Mercator&quot;,GEOGCS[&quot;WGS 84&quot;,DATUM[&quot;WGS_1984&quot;,SPHEROID[&quot;WGS 84&quot;,6378137,298.257223563,AUTHORITY[&quot;EPSG&quot;,&quot;7030&quot;]],AUTHORITY[&quot;EPSG&quot;,&quot;6326&quot;]],PRIMEM[&quot;Greenwich&quot;,0,AUTHORITY[&quot;EPSG&quot;,&quot;8901&quot;]],UNIT[&quot;degree&quot;,0.0174532925199433,AUTHORITY[&quot;EPSG&quot;,&quot;9122&quot;]],AUTHORITY[&quot;EPSG&quot;,&quot;4326&quot;]],PROJECTION[&quot;Mercator_1SP&quot;],PARAMETER[&quot;central_meridian&quot;,0],PARAMETER[&quot;scale_factor&quot;,1],PARAMETER[&quot;false_easting&quot;,0],PARAMETER[&quot;false_northing&quot;,0],UNIT[&quot;metre&quot;,1,AUTHORITY[&quot;EPSG&quot;,&quot;9001&quot;]],AXIS[&quot;Easting&quot;,EAST],AXIS[&quot;Northing&quot;,NORTH],EXTENSION[&quot;PROJ4&quot;,&quot;+proj=merc +a=6378137 +b=6378137 +lat_ts=0 +lon_0=0 +x_0=0 +y_0=0 +k=1 +units=m +nadgrids=@null +wktext +no_defs&quot;],AUTHORITY[&quot;EPSG&quot;,&quot;3857&quot;]]</dd><dt><span>spatial_ref :</span></dt><dd>PROJCS[&quot;WGS 84 / Pseudo-Mercator&quot;,GEOGCS[&quot;WGS 84&quot;,DATUM[&quot;WGS_1984&quot;,SPHEROID[&quot;WGS 84&quot;,6378137,298.257223563,AUTHORITY[&quot;EPSG&quot;,&quot;7030&quot;]],AUTHORITY[&quot;EPSG&quot;,&quot;6326&quot;]],PRIMEM[&quot;Greenwich&quot;,0,AUTHORITY[&quot;EPSG&quot;,&quot;8901&quot;]],UNIT[&quot;degree&quot;,0.0174532925199433,AUTHORITY[&quot;EPSG&quot;,&quot;9122&quot;]],AUTHORITY[&quot;EPSG&quot;,&quot;4326&quot;]],PROJECTION[&quot;Mercator_1SP&quot;],PARAMETER[&quot;central_meridian&quot;,0],PARAMETER[&quot;scale_factor&quot;,1],PARAMETER[&quot;false_easting&quot;,0],PARAMETER[&quot;false_northing&quot;,0],UNIT[&quot;metre&quot;,1,AUTHORITY[&quot;EPSG&quot;,&quot;9001&quot;]],AXIS[&quot;Easting&quot;,EAST],AXIS[&quot;Northing&quot;,NORTH],EXTENSION[&quot;PROJ4&quot;,&quot;+proj=merc +a=6378137 +b=6378137 +lat_ts=0 +lon_0=0 +x_0=0 +y_0=0 +k=1 +units=m +nadgrids=@null +wktext +no_defs&quot;],AUTHORITY[&quot;EPSG&quot;,&quot;3857&quot;]]</dd><dt><span>GeoTransform :</span></dt><dd>-17789667.6936968 10.940677660457384 0.0 2540769.6417128267 0.0 -10.699847096283461</dd></dl></div><div class='xr-var-data'><pre>array(0)</pre></div></li><li class='xr-var-item'><div class='xr-var-name'><span class='xr-has-index'>time</span></div><div class='xr-var-dims'>(time)</div><div class='xr-var-dtype'>datetime64[ns]</div><div class='xr-var-preview xr-preview'>2017-01-01 ... 2024-01-01</div><input id='attrs-b044738a-9878-4b60-8a92-3bf13e317085' class='xr-var-attrs-in' type='checkbox' disabled><label for='attrs-b044738a-9878-4b60-8a92-3bf13e317085' title='Show/Hide attributes'><svg class='icon xr-icon-file-text2'><use xlink:href='#icon-file-text2'></use></svg></label><input id='data-0036fac5-314e-4c6a-b220-8bc02ab40cef' class='xr-var-data-in' type='checkbox'><label for='data-0036fac5-314e-4c6a-b220-8bc02ab40cef' title='Show/Hide data repr'><svg class='icon xr-icon-database'><use xlink:href='#icon-database'></use></svg></label><div class='xr-var-attrs'><dl class='xr-attrs'></dl></div><div class='xr-var-data'><pre>array([&#x27;2017-01-01T00:00:00.000000000&#x27;, &#x27;2018-01-01T00:00:00.000000000&#x27;,\n",
       "       &#x27;2019-01-01T00:00:00.000000000&#x27;, &#x27;2020-01-01T00:00:00.000000000&#x27;,\n",
       "       &#x27;2021-01-01T00:00:00.000000000&#x27;, &#x27;2022-01-01T00:00:00.000000000&#x27;,\n",
       "       &#x27;2023-01-01T00:00:00.000000000&#x27;, &#x27;2024-01-01T00:00:00.000000000&#x27;],\n",
       "      dtype=&#x27;datetime64[ns]&#x27;)</pre></div></li></ul></div></li><li class='xr-section-item'><input id='section-4d2f3037-07d5-4ad1-a60f-92dbb1662ece' class='xr-section-summary-in' type='checkbox'  checked><label for='section-4d2f3037-07d5-4ad1-a60f-92dbb1662ece' class='xr-section-summary' >Data variables: <span>(1)</span></label><div class='xr-section-inline-details'></div><div class='xr-section-details'><ul class='xr-var-list'><li class='xr-var-item'><div class='xr-var-name'><span>land_cover_class</span></div><div class='xr-var-dims'>(time, y, x)</div><div class='xr-var-dtype'>uint8</div><div class='xr-var-preview xr-preview'>dask.array&lt;chunksize=(1, 2000, 2000), meta=np.ndarray&gt;</div><input id='attrs-8d08f990-bb9e-4556-912b-f8378ed793da' class='xr-var-attrs-in' type='checkbox' ><label for='attrs-8d08f990-bb9e-4556-912b-f8378ed793da' title='Show/Hide attributes'><svg class='icon xr-icon-file-text2'><use xlink:href='#icon-file-text2'></use></svg></label><input id='data-1bbd427d-53ce-4aee-92a0-37af4a58c6dc' class='xr-var-data-in' type='checkbox'><label for='data-1bbd427d-53ce-4aee-92a0-37af4a58c6dc' title='Show/Hide data repr'><svg class='icon xr-icon-database'><use xlink:href='#icon-database'></use></svg></label><div class='xr-var-attrs'><dl class='xr-attrs'><dt><span>AREA_OR_POINT :</span></dt><dd>Area</dd><dt><span>_FillValue :</span></dt><dd>255</dd><dt><span>scale_factor :</span></dt><dd>1.0</dd><dt><span>add_offset :</span></dt><dd>0.0</dd></dl></div><div class='xr-var-data'>dask.array<concatenate, shape=(8, 4351, 5394), dtype=uint8, chunksize=(1, 2000, 2000), chunktype=numpy.ndarray></div></li></ul></div></li><li class='xr-section-item'><input id='section-e95598c0-8143-4e12-8af7-c1b388afbecd' class='xr-section-summary-in' type='checkbox'  checked><label for='section-e95598c0-8143-4e12-8af7-c1b388afbecd' class='xr-section-summary' >Attributes: <span>(6)</span></label><div class='xr-section-inline-details'></div><div class='xr-section-details'><dl class='xr-attrs'><dt><span>provider_name :</span></dt><dd>Impact Observatory</dd><dt><span>dataset_id :</span></dt><dd>a4bb9aea-b6df-4d19-9083-38357f8fa76c</dd><dt><span>dataset_name :</span></dt><dd>Land Cover 9-Class</dd><dt><span>dataset_crs :</span></dt><dd>EPSG:3857</dd><dt><span>aoi_id :</span></dt><dd>d9532dde-cf4d-49f8-9b93-94c6d4a60618</dd><dt><span>data_request_id :</span></dt><dd>1dd55fdb-fbab-4943-a984-4d327baf4356</dd></dl></div></li></ul></div></div>"
      ],
      "text/plain": [
       "<xarray.Dataset> Size: 188MB\n",
       "Dimensions:           (x: 5394, y: 4351, time: 8)\n",
       "Coordinates:\n",
       "  * x                 (x) float64 43kB -1.779e+07 -1.779e+07 ... -1.773e+07\n",
       "  * y                 (y) float64 35kB 2.541e+06 2.541e+06 ... 2.494e+06\n",
       "    spatial_ref       int64 8B 0\n",
       "  * time              (time) datetime64[ns] 64B 2017-01-01 ... 2024-01-01\n",
       "Data variables:\n",
       "    land_cover_class  (time, y, x) uint8 188MB dask.array<chunksize=(1, 2000, 2000), meta=np.ndarray>\n",
       "Attributes:\n",
       "    provider_name:    Impact Observatory\n",
       "    dataset_id:       a4bb9aea-b6df-4d19-9083-38357f8fa76c\n",
       "    dataset_name:     Land Cover 9-Class\n",
       "    dataset_crs:      EPSG:3857\n",
       "    aoi_id:           d9532dde-cf4d-49f8-9b93-94c6d4a60618\n",
       "    data_request_id:  1dd55fdb-fbab-4943-a984-4d327baf4356"
      ]
     },
     "execution_count": 2,
     "metadata": {},
     "output_type": "execute_result"
    }
   ],
   "source": [
    "data_request_id = '1dd55fdb-fbab-4943-a984-4d327baf4356'\n",
    "\n",
    "ds = client.load_xarray(data_request_id)\n",
    "ds"
   ]
  },
  {
   "cell_type": "markdown",
   "metadata": {},
   "source": [
    "Note that by default in this notebook, the dataset structure is displayed using the 'html' format, where the dataset output is interactive. To display the output in a text format, you can set the display style to 'text', or use `print(ds)`."
   ]
  },
  {
   "cell_type": "code",
   "execution_count": 3,
   "metadata": {},
   "outputs": [
    {
     "data": {
      "text/html": [
       "<pre>&lt;xarray.Dataset&gt; Size: 188MB\n",
       "Dimensions:           (x: 5394, y: 4351, time: 8)\n",
       "Coordinates:\n",
       "  * x                 (x) float64 43kB -1.779e+07 -1.779e+07 ... -1.773e+07\n",
       "  * y                 (y) float64 35kB 2.541e+06 2.541e+06 ... 2.494e+06\n",
       "    spatial_ref       int64 8B 0\n",
       "  * time              (time) datetime64[ns] 64B 2017-01-01 ... 2024-01-01\n",
       "Data variables:\n",
       "    land_cover_class  (time, y, x) uint8 188MB dask.array&lt;chunksize=(1, 2000, 2000), meta=np.ndarray&gt;\n",
       "Attributes:\n",
       "    provider_name:    Impact Observatory\n",
       "    dataset_id:       a4bb9aea-b6df-4d19-9083-38357f8fa76c\n",
       "    dataset_name:     Land Cover 9-Class\n",
       "    dataset_crs:      EPSG:3857\n",
       "    aoi_id:           d9532dde-cf4d-49f8-9b93-94c6d4a60618\n",
       "    data_request_id:  1dd55fdb-fbab-4943-a984-4d327baf4356</pre>"
      ],
      "text/plain": [
       "<xarray.Dataset> Size: 188MB\n",
       "Dimensions:           (x: 5394, y: 4351, time: 8)\n",
       "Coordinates:\n",
       "  * x                 (x) float64 43kB -1.779e+07 -1.779e+07 ... -1.773e+07\n",
       "  * y                 (y) float64 35kB 2.541e+06 2.541e+06 ... 2.494e+06\n",
       "    spatial_ref       int64 8B 0\n",
       "  * time              (time) datetime64[ns] 64B 2017-01-01 ... 2024-01-01\n",
       "Data variables:\n",
       "    land_cover_class  (time, y, x) uint8 188MB dask.array<chunksize=(1, 2000, 2000), meta=np.ndarray>\n",
       "Attributes:\n",
       "    provider_name:    Impact Observatory\n",
       "    dataset_id:       a4bb9aea-b6df-4d19-9083-38357f8fa76c\n",
       "    dataset_name:     Land Cover 9-Class\n",
       "    dataset_crs:      EPSG:3857\n",
       "    aoi_id:           d9532dde-cf4d-49f8-9b93-94c6d4a60618\n",
       "    data_request_id:  1dd55fdb-fbab-4943-a984-4d327baf4356"
      ]
     },
     "metadata": {},
     "output_type": "display_data"
    }
   ],
   "source": [
    "with xarray.set_options(display_style=\"text\"):\n",
    "    display(ds)"
   ]
  },
  {
   "cell_type": "markdown",
   "metadata": {},
   "source": [
    "### Examine properties of a dataset"
   ]
  },
  {
   "cell_type": "markdown",
   "metadata": {},
   "source": [
    "Xarray Datasets have four key properties:\n",
    "\n",
    "- `dims`: dictionary that maps dimension names to the length of the dimension. For example, the dimensions {'x': 1500, 'y': 1000, 'time': 8} would correspond to a dataset with 1500 pixels in the x direction, 1000 pixels in the y direction, and 8 timesteps. \n",
    "- `coords`: dict-like container of DataArrays that are used to label points along the dataset's dimensions. For example, arrays respresenting each x and y coordinate value present in the Dataset, or datetime objects indicating the timesteps.\n",
    "- `data_vars`: dict-like container of variables, where each data variable is represented as a single DataArray.\n",
    "- `attrs`: dictionary holding metadata associated with the dataset. \n",
    "\n",
    "We will walk through how to access and interpret each of these properties below. "
   ]
  },
  {
   "cell_type": "markdown",
   "metadata": {},
   "source": [
    "**Dimensions**\n",
    "\n",
    "All datasets delivered by Cecil will have `x` and `y` spatial dimensions, and most will also have a `time` dimension. We can visualise the dimensions of a dataset and their sizes by running the following:"
   ]
  },
  {
   "cell_type": "code",
   "execution_count": 4,
   "metadata": {},
   "outputs": [
    {
     "data": {
      "text/plain": [
       "FrozenMappingWarningOnValuesAccess({'x': 5394, 'y': 4351, 'time': 8})"
      ]
     },
     "execution_count": 4,
     "metadata": {},
     "output_type": "execute_result"
    }
   ],
   "source": [
    "ds.dims"
   ]
  },
  {
   "cell_type": "markdown",
   "metadata": {},
   "source": [
    "**Coordinates**\n",
    "\n",
    "The data delivered through Cecil has coordinates that correspond to the dimensions of the data. These are called dimension coordinates (represented by the `*` symbol), and they are the actual values that fall along each of the dimensions of the dataset. The [Xarray Tutorial](https://tutorial.xarray.dev/intro.html) suggests it's helpful to think about coordinates as the tick marks along an axis, and dimensions as the axis labels. \n",
    "\n",
    "In this example, the coordinates `x`, `y`, and `time` specify the spatial locations of the pixels (x and y coordinates), and the timestep associated with each data layer (time coordinates). These coordinates are represented as 1D arrays. \n",
    "\n",
    "It is also possible to have coordinates that do not correspond to one of the dimensions of the dataset. These types of coordinates can be multidimensional. "
   ]
  },
  {
   "cell_type": "code",
   "execution_count": 5,
   "metadata": {},
   "outputs": [
    {
     "data": {
      "text/plain": [
       "Coordinates:\n",
       "  * x            (x) float64 43kB -1.779e+07 -1.779e+07 ... -1.773e+07\n",
       "  * y            (y) float64 35kB 2.541e+06 2.541e+06 ... 2.494e+06 2.494e+06\n",
       "    spatial_ref  int64 8B 0\n",
       "  * time         (time) datetime64[ns] 64B 2017-01-01 2018-01-01 ... 2024-01-01"
      ]
     },
     "execution_count": 5,
     "metadata": {},
     "output_type": "execute_result"
    }
   ],
   "source": [
    "ds.coords"
   ]
  },
  {
   "cell_type": "markdown",
   "metadata": {},
   "source": [
    "**Data Variables**\n",
    "\n",
    "Each variable listed on the dataset page for the relevant dataset is represented in xarray by a 'data variable'. These variables are each either 2D or 3D arrays (depending on whether or not a dataset has a time dimension). \n",
    "\n",
    "In the example below, there is only one data variable (`land_cover_class`) with three dimensions (time, y, x). We can see that the data itself is represented as a [dask array](https://docs.dask.org/en/stable/array.html) with a chunk size of (1, 2000, 2000). Xarray's ability to wrap around chunked dask arrays in this way means that we can run analyses on very large arrays that may not fit into memory. "
   ]
  },
  {
   "cell_type": "code",
   "execution_count": 6,
   "metadata": {},
   "outputs": [
    {
     "data": {
      "text/plain": [
       "Data variables:\n",
       "    land_cover_class  (time, y, x) uint8 188MB dask.array<chunksize=(1, 2000, 2000), meta=np.ndarray>"
      ]
     },
     "execution_count": 6,
     "metadata": {},
     "output_type": "execute_result"
    }
   ],
   "source": [
    "ds.data_vars"
   ]
  },
  {
   "cell_type": "markdown",
   "metadata": {},
   "source": [
    "Similar to the dataset itself, we can access the dimensions and coordinates associated with a data variable like this: "
   ]
  },
  {
   "cell_type": "code",
   "execution_count": 7,
   "metadata": {},
   "outputs": [
    {
     "data": {
      "text/plain": [
       "('time', 'y', 'x')"
      ]
     },
     "execution_count": 7,
     "metadata": {},
     "output_type": "execute_result"
    }
   ],
   "source": [
    "ds.land_cover_class.dims"
   ]
  },
  {
   "cell_type": "code",
   "execution_count": 8,
   "metadata": {},
   "outputs": [
    {
     "data": {
      "text/plain": [
       "Coordinates:\n",
       "  * x            (x) float64 43kB -1.779e+07 -1.779e+07 ... -1.773e+07\n",
       "  * y            (y) float64 35kB 2.541e+06 2.541e+06 ... 2.494e+06 2.494e+06\n",
       "    spatial_ref  int64 8B 0\n",
       "  * time         (time) datetime64[ns] 64B 2017-01-01 2018-01-01 ... 2024-01-01"
      ]
     },
     "execution_count": 8,
     "metadata": {},
     "output_type": "execute_result"
    }
   ],
   "source": [
    "ds.land_cover_class.coords"
   ]
  },
  {
   "cell_type": "markdown",
   "metadata": {},
   "source": [
    "**Attributes**\n",
    "\n",
    "The final property of an Xarray Dataset is the attributes. Attributes can hold metadata at the dataset level, or at the level of an indidividual data variable. \n",
    "\n",
    "Cecil provides some attributes by default with all datasets delivered (e.g. dataset name, provider name, and ids relevant to the Cecil platform). "
   ]
  },
  {
   "cell_type": "code",
   "execution_count": 9,
   "metadata": {},
   "outputs": [
    {
     "data": {
      "text/plain": [
       "{'provider_name': 'Impact Observatory',\n",
       " 'dataset_id': 'a4bb9aea-b6df-4d19-9083-38357f8fa76c',\n",
       " 'dataset_name': 'Land Cover 9-Class',\n",
       " 'dataset_crs': 'EPSG:3857',\n",
       " 'aoi_id': 'd9532dde-cf4d-49f8-9b93-94c6d4a60618',\n",
       " 'data_request_id': '1dd55fdb-fbab-4943-a984-4d327baf4356'}"
      ]
     },
     "execution_count": 9,
     "metadata": {},
     "output_type": "execute_result"
    }
   ],
   "source": [
    "ds.attrs"
   ]
  },
  {
   "cell_type": "markdown",
   "metadata": {},
   "source": [
    "We can access these attributes from the dataset and use them to pull information from the Cecil platform. For example, to find out the size of the AOI used for making the data request, we can run:"
   ]
  },
  {
   "cell_type": "code",
   "execution_count": 10,
   "metadata": {},
   "outputs": [
    {
     "name": "stdout",
     "output_type": "stream",
     "text": [
      "AOI size in hectares: 174325.32\n"
     ]
    }
   ],
   "source": [
    "aoi_ha = client.get_aoi(ds.attrs['aoi_id']).hectares\n",
    "print(f'AOI size in hectares: {aoi_ha:.2f}')"
   ]
  },
  {
   "cell_type": "markdown",
   "metadata": {},
   "source": [
    "Or to check when a data request was originally created:"
   ]
  },
  {
   "cell_type": "code",
   "execution_count": 11,
   "metadata": {},
   "outputs": [
    {
     "name": "stdout",
     "output_type": "stream",
     "text": [
      "Data request 1dd55fdb-fbab-4943-a984-4d327baf4356 was created_at: 2025-08-20 09:56:53.557000+00:00\n"
     ]
    }
   ],
   "source": [
    "created_at = client.get_data_request(ds.attrs['data_request_id']).created_at\n",
    "print(f'Data request {data_request_id} was created_at: {created_at}')"
   ]
  },
  {
   "cell_type": "markdown",
   "metadata": {},
   "source": [
    "As mentioned previously, attributes can apply to the dataset as a whole, or to individual data variables. To see the attributes associated with the `land_cover_class` data variable, we can run the following:"
   ]
  },
  {
   "cell_type": "code",
   "execution_count": 12,
   "metadata": {},
   "outputs": [
    {
     "data": {
      "text/plain": [
       "{'AREA_OR_POINT': 'Area',\n",
       " '_FillValue': np.uint8(255),\n",
       " 'scale_factor': 1.0,\n",
       " 'add_offset': 0.0}"
      ]
     },
     "execution_count": 12,
     "metadata": {},
     "output_type": "execute_result"
    }
   ],
   "source": [
    "ds.land_cover_class.attrs"
   ]
  },
  {
   "cell_type": "markdown",
   "metadata": {},
   "source": [
    "These attributes are often added by default during the creation of the Xarray Dataset. One useful attribute to pay attention to is the `'_FillValue'` attribute, which can be used to filter or mask NoData from a data variable. "
   ]
  }
 ],
 "metadata": {
  "kernelspec": {
   "display_name": "examples-venv",
   "language": "python",
   "name": "examples-venv"
  },
  "language_info": {
   "codemirror_mode": {
    "name": "ipython",
    "version": 3
   },
   "file_extension": ".py",
   "mimetype": "text/x-python",
   "name": "python",
   "nbconvert_exporter": "python",
   "pygments_lexer": "ipython3",
   "version": "3.13.2"
  }
 },
 "nbformat": 4,
 "nbformat_minor": 2
}
